{
 "cells": [
  {
   "cell_type": "code",
   "execution_count": 1,
   "id": "cfaa044f",
   "metadata": {
    "scrolled": true
   },
   "outputs": [
    {
     "name": "stderr",
     "output_type": "stream",
     "text": [
      "\n",
      "Bad key text.latex.preview in file D:\\anaconda3\\lib\\site-packages\\matplotlib\\mpl-data\\stylelib\\_classic_test.mplstyle, line 123 ('text.latex.preview : False')\n",
      "You probably need to get an updated matplotlibrc file from\n",
      "https://github.com/matplotlib/matplotlib/blob/v3.5.3/matplotlibrc.template\n",
      "or from the matplotlib source distribution\n",
      "\n",
      "Bad key mathtext.fallback_to_cm in file D:\\anaconda3\\lib\\site-packages\\matplotlib\\mpl-data\\stylelib\\_classic_test.mplstyle, line 155 ('mathtext.fallback_to_cm : True  # When True, use symbols from the Computer Modern')\n",
      "You probably need to get an updated matplotlibrc file from\n",
      "https://github.com/matplotlib/matplotlib/blob/v3.5.3/matplotlibrc.template\n",
      "or from the matplotlib source distribution\n",
      "\n",
      "Bad key savefig.jpeg_quality in file D:\\anaconda3\\lib\\site-packages\\matplotlib\\mpl-data\\stylelib\\_classic_test.mplstyle, line 418 ('savefig.jpeg_quality: 95       # when a jpeg is saved, the default quality parameter.')\n",
      "You probably need to get an updated matplotlibrc file from\n",
      "https://github.com/matplotlib/matplotlib/blob/v3.5.3/matplotlibrc.template\n",
      "or from the matplotlib source distribution\n",
      "\n",
      "Bad key keymap.all_axes in file D:\\anaconda3\\lib\\site-packages\\matplotlib\\mpl-data\\stylelib\\_classic_test.mplstyle, line 466 ('keymap.all_axes : a                 # enable all axes')\n",
      "You probably need to get an updated matplotlibrc file from\n",
      "https://github.com/matplotlib/matplotlib/blob/v3.5.3/matplotlibrc.template\n",
      "or from the matplotlib source distribution\n",
      "\n",
      "Bad key animation.avconv_path in file D:\\anaconda3\\lib\\site-packages\\matplotlib\\mpl-data\\stylelib\\_classic_test.mplstyle, line 477 ('animation.avconv_path: avconv     # Path to avconv binary. Without full path')\n",
      "You probably need to get an updated matplotlibrc file from\n",
      "https://github.com/matplotlib/matplotlib/blob/v3.5.3/matplotlibrc.template\n",
      "or from the matplotlib source distribution\n",
      "\n",
      "Bad key animation.avconv_args in file D:\\anaconda3\\lib\\site-packages\\matplotlib\\mpl-data\\stylelib\\_classic_test.mplstyle, line 479 ('animation.avconv_args:            # Additional arguments to pass to avconv')\n",
      "You probably need to get an updated matplotlibrc file from\n",
      "https://github.com/matplotlib/matplotlib/blob/v3.5.3/matplotlibrc.template\n",
      "or from the matplotlib source distribution\n"
     ]
    }
   ],
   "source": [
    "import mediapipe as mp\n",
    "import cv2\n",
    "import time\n",
    "import numpy as np\n",
    "import pandas as pd\n",
    "import os"
   ]
  },
  {
   "cell_type": "code",
   "execution_count": 2,
   "id": "b858baac",
   "metadata": {},
   "outputs": [],
   "source": [
    "mpPose = mp.solutions.pose\n",
    "pose = mpPose.Pose()\n",
    "mpDraw = mp.solutions.drawing_utils # For drawing keypoints\n",
    "points = mpPose.PoseLandmark # Landmarks\n",
    "path = \"H:/basketball_data/train/dribbling\" # enter dataset path\n",
    "data = []\n",
    "for p in points:\n",
    "    x = str(p)[13:]\n",
    "    data.append(x + \"_x\")\n",
    "    data.append(x + \"_y\")\n",
    "    data.append(x + \"_z\")\n",
    "    data.append(x + \"_vis\")\n",
    "data = pd.DataFrame(columns = data)"
   ]
  },
  {
   "cell_type": "code",
   "execution_count": 3,
   "id": "febc4be7",
   "metadata": {},
   "outputs": [
    {
     "ename": "KeyboardInterrupt",
     "evalue": "",
     "output_type": "error",
     "traceback": [
      "\u001b[1;31m---------------------------------------------------------------------------\u001b[0m",
      "\u001b[1;31mKeyboardInterrupt\u001b[0m                         Traceback (most recent call last)",
      "\u001b[1;32m~\\AppData\\Local\\Temp\\ipykernel_22076\\3153540470.py\u001b[0m in \u001b[0;36m<module>\u001b[1;34m\u001b[0m\n\u001b[0;32m     19\u001b[0m             \u001b[0mcv2\u001b[0m\u001b[1;33m.\u001b[0m\u001b[0mimshow\u001b[0m\u001b[1;33m(\u001b[0m\u001b[1;34m\"Image\"\u001b[0m\u001b[1;33m,\u001b[0m \u001b[0mimg\u001b[0m\u001b[1;33m)\u001b[0m\u001b[1;33m\u001b[0m\u001b[1;33m\u001b[0m\u001b[0m\n\u001b[0;32m     20\u001b[0m             \u001b[0mcv2\u001b[0m\u001b[1;33m.\u001b[0m\u001b[0mimshow\u001b[0m\u001b[1;33m(\u001b[0m\u001b[1;34m\"blackie\"\u001b[0m\u001b[1;33m,\u001b[0m\u001b[0mblackie\u001b[0m\u001b[1;33m)\u001b[0m\u001b[1;33m\u001b[0m\u001b[1;33m\u001b[0m\u001b[0m\n\u001b[1;32m---> 21\u001b[1;33m             \u001b[0mcv2\u001b[0m\u001b[1;33m.\u001b[0m\u001b[0mwaitKey\u001b[0m\u001b[1;33m(\u001b[0m\u001b[1;36m100\u001b[0m\u001b[1;33m)\u001b[0m\u001b[1;33m\u001b[0m\u001b[1;33m\u001b[0m\u001b[0m\n\u001b[0m\u001b[0;32m     22\u001b[0m         \u001b[1;32mexcept\u001b[0m \u001b[0mAttributeError\u001b[0m\u001b[1;33m:\u001b[0m\u001b[1;33m\u001b[0m\u001b[1;33m\u001b[0m\u001b[0m\n\u001b[0;32m     23\u001b[0m             \u001b[1;32mcontinue\u001b[0m\u001b[1;33m\u001b[0m\u001b[1;33m\u001b[0m\u001b[0m\n",
      "\u001b[1;31mKeyboardInterrupt\u001b[0m: "
     ]
    }
   ],
   "source": [
    "count = 0\n",
    "temp = []\n",
    "for img in os.listdir(path):\n",
    "        try:\n",
    "            temp = []\n",
    "            img = cv2.imread(path + \"/\" + img)\n",
    "            imageWidth, imageHeight = img.shape[:2]\n",
    "            imgRGB = cv2.cvtColor(img, cv2.COLOR_BGR2RGB)\n",
    "            blackie = np.zeros(img.shape) # Blank image\n",
    "            results = pose.process(imgRGB)\n",
    "            if results.pose_landmarks:\n",
    "                    # mpDraw.draw_landmarks(img, results.pose_landmarks, mpPose.POSE_CONNECTIONS) #draw landmarks on image\n",
    "                    mpDraw.draw_landmarks(blackie, results.pose_landmarks, mpPose.POSE_CONNECTIONS) # draw landmarks on blackie\n",
    "                    landmarks = results.pose_landmarks.landmark\n",
    "                    for i,j in zip(points,landmarks):\n",
    "                            temp = temp + [j.x, j.y, j.z, j.visibility]\n",
    "                    data.loc[count] = temp\n",
    "                    count +=1\n",
    "            cv2.imshow(\"Image\", img)\n",
    "            cv2.imshow(\"blackie\",blackie)\n",
    "            cv2.waitKey(100)\n",
    "        except AttributeError:\n",
    "            continue\n",
    " \n",
    "data.to_csv(\"H:\\\\basketball_data\\\\generate_csv\\\\dribbling_dataset.csv\") # save the data as a csv file"
   ]
  },
  {
   "cell_type": "code",
   "execution_count": 4,
   "id": "0c3dc111",
   "metadata": {},
   "outputs": [],
   "source": [
    "df_shooting = pd.read_csv('H:\\\\basketball_data\\\\generate_csv\\\\shooting_dataset.csv')\n",
    "df_dribbling = pd.read_csv('H:\\\\basketball_data\\\\generate_csv\\\\dribbling_dataset.csv')\n",
    "df_not_shooting= pd.read_csv('H:\\\\basketball_data\\\\generate_csv\\\\not_shooting_dataset.csv')"
   ]
  },
  {
   "cell_type": "code",
   "execution_count": 5,
   "id": "6fbe89de",
   "metadata": {},
   "outputs": [],
   "source": [
    "df_shooting['target']=1 #1代表投篮\n",
    "df_not_shooting['target']=0 #0代表不投篮\n",
    "df_dribbling['target']=2#2代表运球"
   ]
  },
  {
   "cell_type": "code",
   "execution_count": 6,
   "id": "fa728a52",
   "metadata": {},
   "outputs": [],
   "source": [
    "df=df_shooting.append(df_not_shooting)"
   ]
  },
  {
   "cell_type": "code",
   "execution_count": 7,
   "id": "11e02f33",
   "metadata": {},
   "outputs": [],
   "source": [
    "df=df.append(df_dribbling)"
   ]
  },
  {
   "cell_type": "code",
   "execution_count": 8,
   "id": "08b8bc08",
   "metadata": {},
   "outputs": [],
   "source": [
    "df.reset_index(drop=True, inplace=True)\n",
    "df=df.iloc[:,1:]"
   ]
  },
  {
   "cell_type": "code",
   "execution_count": 9,
   "id": "de404970",
   "metadata": {},
   "outputs": [
    {
     "data": {
      "text/html": [
       "<div>\n",
       "<style scoped>\n",
       "    .dataframe tbody tr th:only-of-type {\n",
       "        vertical-align: middle;\n",
       "    }\n",
       "\n",
       "    .dataframe tbody tr th {\n",
       "        vertical-align: top;\n",
       "    }\n",
       "\n",
       "    .dataframe thead th {\n",
       "        text-align: right;\n",
       "    }\n",
       "</style>\n",
       "<table border=\"1\" class=\"dataframe\">\n",
       "  <thead>\n",
       "    <tr style=\"text-align: right;\">\n",
       "      <th></th>\n",
       "      <th>NOSE_x</th>\n",
       "      <th>NOSE_y</th>\n",
       "      <th>NOSE_z</th>\n",
       "      <th>NOSE_vis</th>\n",
       "      <th>LEFT_EYE_INNER_x</th>\n",
       "      <th>LEFT_EYE_INNER_y</th>\n",
       "      <th>LEFT_EYE_INNER_z</th>\n",
       "      <th>LEFT_EYE_INNER_vis</th>\n",
       "      <th>LEFT_EYE_x</th>\n",
       "      <th>LEFT_EYE_y</th>\n",
       "      <th>...</th>\n",
       "      <th>RIGHT_HEEL_vis</th>\n",
       "      <th>LEFT_FOOT_INDEX_x</th>\n",
       "      <th>LEFT_FOOT_INDEX_y</th>\n",
       "      <th>LEFT_FOOT_INDEX_z</th>\n",
       "      <th>LEFT_FOOT_INDEX_vis</th>\n",
       "      <th>RIGHT_FOOT_INDEX_x</th>\n",
       "      <th>RIGHT_FOOT_INDEX_y</th>\n",
       "      <th>RIGHT_FOOT_INDEX_z</th>\n",
       "      <th>RIGHT_FOOT_INDEX_vis</th>\n",
       "      <th>target</th>\n",
       "    </tr>\n",
       "  </thead>\n",
       "  <tbody>\n",
       "    <tr>\n",
       "      <td>0</td>\n",
       "      <td>0.447995</td>\n",
       "      <td>0.422057</td>\n",
       "      <td>-0.192104</td>\n",
       "      <td>0.976368</td>\n",
       "      <td>0.428352</td>\n",
       "      <td>0.403105</td>\n",
       "      <td>-0.189175</td>\n",
       "      <td>0.975644</td>\n",
       "      <td>0.424037</td>\n",
       "      <td>0.403354</td>\n",
       "      <td>...</td>\n",
       "      <td>0.463257</td>\n",
       "      <td>0.233054</td>\n",
       "      <td>0.656314</td>\n",
       "      <td>1.443197</td>\n",
       "      <td>0.461520</td>\n",
       "      <td>0.373873</td>\n",
       "      <td>0.543332</td>\n",
       "      <td>1.101894</td>\n",
       "      <td>0.504405</td>\n",
       "      <td>1</td>\n",
       "    </tr>\n",
       "    <tr>\n",
       "      <td>1</td>\n",
       "      <td>0.444185</td>\n",
       "      <td>0.418227</td>\n",
       "      <td>-0.119033</td>\n",
       "      <td>0.978704</td>\n",
       "      <td>0.420231</td>\n",
       "      <td>0.401712</td>\n",
       "      <td>-0.131995</td>\n",
       "      <td>0.978045</td>\n",
       "      <td>0.415011</td>\n",
       "      <td>0.402075</td>\n",
       "      <td>...</td>\n",
       "      <td>0.457355</td>\n",
       "      <td>0.431522</td>\n",
       "      <td>0.302145</td>\n",
       "      <td>0.868637</td>\n",
       "      <td>0.440689</td>\n",
       "      <td>0.476036</td>\n",
       "      <td>0.283403</td>\n",
       "      <td>0.392622</td>\n",
       "      <td>0.515855</td>\n",
       "      <td>1</td>\n",
       "    </tr>\n",
       "    <tr>\n",
       "      <td>2</td>\n",
       "      <td>0.598761</td>\n",
       "      <td>0.584198</td>\n",
       "      <td>-0.220648</td>\n",
       "      <td>0.980785</td>\n",
       "      <td>0.609114</td>\n",
       "      <td>0.568965</td>\n",
       "      <td>-0.268376</td>\n",
       "      <td>0.980209</td>\n",
       "      <td>0.610842</td>\n",
       "      <td>0.568814</td>\n",
       "      <td>...</td>\n",
       "      <td>0.489109</td>\n",
       "      <td>0.607878</td>\n",
       "      <td>0.708306</td>\n",
       "      <td>0.384028</td>\n",
       "      <td>0.412519</td>\n",
       "      <td>0.715843</td>\n",
       "      <td>1.047531</td>\n",
       "      <td>0.468511</td>\n",
       "      <td>0.534481</td>\n",
       "      <td>1</td>\n",
       "    </tr>\n",
       "    <tr>\n",
       "      <td>3</td>\n",
       "      <td>0.654963</td>\n",
       "      <td>0.585802</td>\n",
       "      <td>-0.159049</td>\n",
       "      <td>0.982583</td>\n",
       "      <td>0.660644</td>\n",
       "      <td>0.578566</td>\n",
       "      <td>-0.175945</td>\n",
       "      <td>0.982128</td>\n",
       "      <td>0.662748</td>\n",
       "      <td>0.579440</td>\n",
       "      <td>...</td>\n",
       "      <td>0.512048</td>\n",
       "      <td>0.633153</td>\n",
       "      <td>0.896688</td>\n",
       "      <td>0.282045</td>\n",
       "      <td>0.468217</td>\n",
       "      <td>0.650054</td>\n",
       "      <td>0.900786</td>\n",
       "      <td>0.541243</td>\n",
       "      <td>0.562339</td>\n",
       "      <td>1</td>\n",
       "    </tr>\n",
       "    <tr>\n",
       "      <td>4</td>\n",
       "      <td>0.636699</td>\n",
       "      <td>0.630864</td>\n",
       "      <td>-1.015364</td>\n",
       "      <td>0.979376</td>\n",
       "      <td>0.639814</td>\n",
       "      <td>0.636273</td>\n",
       "      <td>-1.043486</td>\n",
       "      <td>0.980421</td>\n",
       "      <td>0.640712</td>\n",
       "      <td>0.637543</td>\n",
       "      <td>...</td>\n",
       "      <td>0.464135</td>\n",
       "      <td>0.554988</td>\n",
       "      <td>0.533542</td>\n",
       "      <td>0.955860</td>\n",
       "      <td>0.430439</td>\n",
       "      <td>0.565777</td>\n",
       "      <td>0.575271</td>\n",
       "      <td>1.080059</td>\n",
       "      <td>0.509488</td>\n",
       "      <td>1</td>\n",
       "    </tr>\n",
       "    <tr>\n",
       "      <td>...</td>\n",
       "      <td>...</td>\n",
       "      <td>...</td>\n",
       "      <td>...</td>\n",
       "      <td>...</td>\n",
       "      <td>...</td>\n",
       "      <td>...</td>\n",
       "      <td>...</td>\n",
       "      <td>...</td>\n",
       "      <td>...</td>\n",
       "      <td>...</td>\n",
       "      <td>...</td>\n",
       "      <td>...</td>\n",
       "      <td>...</td>\n",
       "      <td>...</td>\n",
       "      <td>...</td>\n",
       "      <td>...</td>\n",
       "      <td>...</td>\n",
       "      <td>...</td>\n",
       "      <td>...</td>\n",
       "      <td>...</td>\n",
       "      <td>...</td>\n",
       "    </tr>\n",
       "    <tr>\n",
       "      <td>367</td>\n",
       "      <td>0.388577</td>\n",
       "      <td>0.162807</td>\n",
       "      <td>-0.506226</td>\n",
       "      <td>0.974281</td>\n",
       "      <td>0.392410</td>\n",
       "      <td>0.149425</td>\n",
       "      <td>-0.494388</td>\n",
       "      <td>0.974569</td>\n",
       "      <td>0.393392</td>\n",
       "      <td>0.148398</td>\n",
       "      <td>...</td>\n",
       "      <td>0.622347</td>\n",
       "      <td>0.453690</td>\n",
       "      <td>0.591541</td>\n",
       "      <td>-0.010825</td>\n",
       "      <td>0.632335</td>\n",
       "      <td>0.360733</td>\n",
       "      <td>0.683429</td>\n",
       "      <td>-0.183054</td>\n",
       "      <td>0.627750</td>\n",
       "      <td>2</td>\n",
       "    </tr>\n",
       "    <tr>\n",
       "      <td>368</td>\n",
       "      <td>0.317420</td>\n",
       "      <td>0.335500</td>\n",
       "      <td>-0.082653</td>\n",
       "      <td>0.974477</td>\n",
       "      <td>0.318722</td>\n",
       "      <td>0.323603</td>\n",
       "      <td>-0.079514</td>\n",
       "      <td>0.975736</td>\n",
       "      <td>0.318108</td>\n",
       "      <td>0.321979</td>\n",
       "      <td>...</td>\n",
       "      <td>0.644249</td>\n",
       "      <td>0.213280</td>\n",
       "      <td>0.653540</td>\n",
       "      <td>-0.009635</td>\n",
       "      <td>0.640510</td>\n",
       "      <td>0.217217</td>\n",
       "      <td>0.675273</td>\n",
       "      <td>-0.145181</td>\n",
       "      <td>0.653130</td>\n",
       "      <td>2</td>\n",
       "    </tr>\n",
       "    <tr>\n",
       "      <td>369</td>\n",
       "      <td>0.368994</td>\n",
       "      <td>0.161423</td>\n",
       "      <td>-0.434519</td>\n",
       "      <td>0.977003</td>\n",
       "      <td>0.365324</td>\n",
       "      <td>0.147152</td>\n",
       "      <td>-0.413374</td>\n",
       "      <td>0.978139</td>\n",
       "      <td>0.370466</td>\n",
       "      <td>0.149579</td>\n",
       "      <td>...</td>\n",
       "      <td>0.627812</td>\n",
       "      <td>0.706509</td>\n",
       "      <td>1.494591</td>\n",
       "      <td>-0.502739</td>\n",
       "      <td>0.634686</td>\n",
       "      <td>0.565758</td>\n",
       "      <td>1.334641</td>\n",
       "      <td>-0.456896</td>\n",
       "      <td>0.639313</td>\n",
       "      <td>2</td>\n",
       "    </tr>\n",
       "    <tr>\n",
       "      <td>370</td>\n",
       "      <td>0.589108</td>\n",
       "      <td>0.210318</td>\n",
       "      <td>-0.113248</td>\n",
       "      <td>0.973732</td>\n",
       "      <td>0.604631</td>\n",
       "      <td>0.234858</td>\n",
       "      <td>-0.106233</td>\n",
       "      <td>0.975471</td>\n",
       "      <td>0.605076</td>\n",
       "      <td>0.218196</td>\n",
       "      <td>...</td>\n",
       "      <td>0.612483</td>\n",
       "      <td>0.388899</td>\n",
       "      <td>0.689952</td>\n",
       "      <td>0.234768</td>\n",
       "      <td>0.596911</td>\n",
       "      <td>0.335951</td>\n",
       "      <td>0.756267</td>\n",
       "      <td>0.323866</td>\n",
       "      <td>0.611400</td>\n",
       "      <td>2</td>\n",
       "    </tr>\n",
       "    <tr>\n",
       "      <td>371</td>\n",
       "      <td>0.511491</td>\n",
       "      <td>0.238113</td>\n",
       "      <td>-0.445974</td>\n",
       "      <td>0.975761</td>\n",
       "      <td>0.511345</td>\n",
       "      <td>0.213875</td>\n",
       "      <td>-0.427038</td>\n",
       "      <td>0.977371</td>\n",
       "      <td>0.508637</td>\n",
       "      <td>0.208078</td>\n",
       "      <td>...</td>\n",
       "      <td>0.607586</td>\n",
       "      <td>0.518212</td>\n",
       "      <td>0.915480</td>\n",
       "      <td>1.093337</td>\n",
       "      <td>0.586932</td>\n",
       "      <td>0.613716</td>\n",
       "      <td>0.928567</td>\n",
       "      <td>0.678409</td>\n",
       "      <td>0.608692</td>\n",
       "      <td>2</td>\n",
       "    </tr>\n",
       "  </tbody>\n",
       "</table>\n",
       "<p>372 rows × 133 columns</p>\n",
       "</div>"
      ],
      "text/plain": [
       "       NOSE_x    NOSE_y    NOSE_z  NOSE_vis  LEFT_EYE_INNER_x  \\\n",
       "0    0.447995  0.422057 -0.192104  0.976368          0.428352   \n",
       "1    0.444185  0.418227 -0.119033  0.978704          0.420231   \n",
       "2    0.598761  0.584198 -0.220648  0.980785          0.609114   \n",
       "3    0.654963  0.585802 -0.159049  0.982583          0.660644   \n",
       "4    0.636699  0.630864 -1.015364  0.979376          0.639814   \n",
       "..        ...       ...       ...       ...               ...   \n",
       "367  0.388577  0.162807 -0.506226  0.974281          0.392410   \n",
       "368  0.317420  0.335500 -0.082653  0.974477          0.318722   \n",
       "369  0.368994  0.161423 -0.434519  0.977003          0.365324   \n",
       "370  0.589108  0.210318 -0.113248  0.973732          0.604631   \n",
       "371  0.511491  0.238113 -0.445974  0.975761          0.511345   \n",
       "\n",
       "     LEFT_EYE_INNER_y  LEFT_EYE_INNER_z  LEFT_EYE_INNER_vis  LEFT_EYE_x  \\\n",
       "0            0.403105         -0.189175            0.975644    0.424037   \n",
       "1            0.401712         -0.131995            0.978045    0.415011   \n",
       "2            0.568965         -0.268376            0.980209    0.610842   \n",
       "3            0.578566         -0.175945            0.982128    0.662748   \n",
       "4            0.636273         -1.043486            0.980421    0.640712   \n",
       "..                ...               ...                 ...         ...   \n",
       "367          0.149425         -0.494388            0.974569    0.393392   \n",
       "368          0.323603         -0.079514            0.975736    0.318108   \n",
       "369          0.147152         -0.413374            0.978139    0.370466   \n",
       "370          0.234858         -0.106233            0.975471    0.605076   \n",
       "371          0.213875         -0.427038            0.977371    0.508637   \n",
       "\n",
       "     LEFT_EYE_y  ...  RIGHT_HEEL_vis  LEFT_FOOT_INDEX_x  LEFT_FOOT_INDEX_y  \\\n",
       "0      0.403354  ...        0.463257           0.233054           0.656314   \n",
       "1      0.402075  ...        0.457355           0.431522           0.302145   \n",
       "2      0.568814  ...        0.489109           0.607878           0.708306   \n",
       "3      0.579440  ...        0.512048           0.633153           0.896688   \n",
       "4      0.637543  ...        0.464135           0.554988           0.533542   \n",
       "..          ...  ...             ...                ...                ...   \n",
       "367    0.148398  ...        0.622347           0.453690           0.591541   \n",
       "368    0.321979  ...        0.644249           0.213280           0.653540   \n",
       "369    0.149579  ...        0.627812           0.706509           1.494591   \n",
       "370    0.218196  ...        0.612483           0.388899           0.689952   \n",
       "371    0.208078  ...        0.607586           0.518212           0.915480   \n",
       "\n",
       "     LEFT_FOOT_INDEX_z  LEFT_FOOT_INDEX_vis  RIGHT_FOOT_INDEX_x  \\\n",
       "0             1.443197             0.461520            0.373873   \n",
       "1             0.868637             0.440689            0.476036   \n",
       "2             0.384028             0.412519            0.715843   \n",
       "3             0.282045             0.468217            0.650054   \n",
       "4             0.955860             0.430439            0.565777   \n",
       "..                 ...                  ...                 ...   \n",
       "367          -0.010825             0.632335            0.360733   \n",
       "368          -0.009635             0.640510            0.217217   \n",
       "369          -0.502739             0.634686            0.565758   \n",
       "370           0.234768             0.596911            0.335951   \n",
       "371           1.093337             0.586932            0.613716   \n",
       "\n",
       "     RIGHT_FOOT_INDEX_y  RIGHT_FOOT_INDEX_z  RIGHT_FOOT_INDEX_vis  target  \n",
       "0              0.543332            1.101894              0.504405       1  \n",
       "1              0.283403            0.392622              0.515855       1  \n",
       "2              1.047531            0.468511              0.534481       1  \n",
       "3              0.900786            0.541243              0.562339       1  \n",
       "4              0.575271            1.080059              0.509488       1  \n",
       "..                  ...                 ...                   ...     ...  \n",
       "367            0.683429           -0.183054              0.627750       2  \n",
       "368            0.675273           -0.145181              0.653130       2  \n",
       "369            1.334641           -0.456896              0.639313       2  \n",
       "370            0.756267            0.323866              0.611400       2  \n",
       "371            0.928567            0.678409              0.608692       2  \n",
       "\n",
       "[372 rows x 133 columns]"
      ]
     },
     "execution_count": 9,
     "metadata": {},
     "output_type": "execute_result"
    }
   ],
   "source": [
    "df"
   ]
  },
  {
   "cell_type": "markdown",
   "id": "bd451f83",
   "metadata": {},
   "source": [
    "## SVC分类器"
   ]
  },
  {
   "cell_type": "code",
   "execution_count": 13,
   "id": "4bc83e9c",
   "metadata": {
    "scrolled": false
   },
   "outputs": [],
   "source": [
    "from sklearn.svm import SVC\n",
    "data = df\n",
    "temp=[]\n",
    "X,Y = data.iloc[:,:132],data['target']\n",
    "model = SVC(kernel = 'poly')#rbf kernel\n",
    "model.fit(X,Y)\n",
    "mpPose = mp.solutions.pose\n",
    "pose = mpPose.Pose()\n",
    "mpDraw = mp.solutions.drawing_utils\n",
    "path1 = \"H:\\\\basketball_data\\\\test\\\\test.jpg\"\n",
    "img = cv2.imread(path1)\n",
    "imgRGB = cv2.cvtColor(img, cv2.COLOR_BGR2RGB)\n",
    "results = pose.process(imgRGB)\n",
    "if results.pose_landmarks:\n",
    "        landmarks = results.pose_landmarks.landmark\n",
    "        for j in landmarks:\n",
    "                temp = temp + [j.x, j.y, j.z, j.visibility]\n",
    "        y = model.predict([temp])\n",
    "        if y == 0:\n",
    "            asan = \"not shooting\"\n",
    "        if y == 2:\n",
    "            asan = 'dribbling'\n",
    "        else:\n",
    "            asan = \"shooting\"\n",
    "        print(asan)\n",
    "        cv2.putText(img, asan, (50,50), cv2.FONT_HERSHEY_SIMPLEX,1,(255,255,0),3)\n",
    "        cv2.imshow(\"image\",img)\n",
    "        cv2.waitKey()\n",
    "        cv2.destroyAllWindows()"
   ]
  },
  {
   "cell_type": "code",
   "execution_count": 29,
   "id": "4b966b56",
   "metadata": {},
   "outputs": [],
   "source": [
    "from sklearn.model_selection import train_test_split\n",
    "from sklearn.metrics import confusion_matrix\n",
    "from sklearn.metrics import accuracy_score"
   ]
  },
  {
   "cell_type": "code",
   "execution_count": 22,
   "id": "9340bb0b",
   "metadata": {},
   "outputs": [],
   "source": [
    "X_train, X_test, y_train, y_test = train_test_split(X, Y, random_state=10)"
   ]
  },
  {
   "cell_type": "code",
   "execution_count": 30,
   "id": "a937a134",
   "metadata": {},
   "outputs": [
    {
     "name": "stdout",
     "output_type": "stream",
     "text": [
      "[[14  8 14]\n",
      " [ 2 34  1]\n",
      " [ 1  0 19]]\n",
      "0.7204301075268817\n"
     ]
    }
   ],
   "source": [
    "predictions = model.predict(X_test)\n",
    "print(confusion_matrix(y_test, predictions))\n",
    "print(accuracy_score(y_test, predictions))"
   ]
  },
  {
   "cell_type": "markdown",
   "id": "19cd5f60",
   "metadata": {},
   "source": [
    "## 参数优化"
   ]
  },
  {
   "cell_type": "markdown",
   "id": "7b028d4a",
   "metadata": {},
   "source": [
    "### rbf  C值"
   ]
  },
  {
   "cell_type": "code",
   "execution_count": 56,
   "id": "8678a383",
   "metadata": {},
   "outputs": [
    {
     "data": {
      "text/plain": [
       "SVC(C=1.0, break_ties=False, cache_size=200, class_weight=None, coef0=0.0,\n",
       "    decision_function_shape='ovr', degree=3, gamma='scale', kernel='rbf',\n",
       "    max_iter=-1, probability=False, random_state=None, shrinking=True,\n",
       "    tol=0.001, verbose=False)"
      ]
     },
     "execution_count": 56,
     "metadata": {},
     "output_type": "execute_result"
    }
   ],
   "source": [
    "model = SVC(kernel = 'rbf')#rbf kernel\n",
    "model.fit(X_train,y_train)"
   ]
  },
  {
   "cell_type": "code",
   "execution_count": 57,
   "id": "32604d29",
   "metadata": {},
   "outputs": [
    {
     "name": "stdout",
     "output_type": "stream",
     "text": [
      "[[14  6 16]\n",
      " [ 3 31  3]\n",
      " [ 3  0 17]]\n",
      "0.6666666666666666\n"
     ]
    }
   ],
   "source": [
    "predictions = model.predict(X_test)\n",
    "print(confusion_matrix(y_test, predictions))\n",
    "print(accuracy_score(y_test, predictions))"
   ]
  },
  {
   "cell_type": "markdown",
   "id": "fc844dce",
   "metadata": {},
   "source": [
    "C值"
   ]
  },
  {
   "cell_type": "code",
   "execution_count": 58,
   "id": "744f66e5",
   "metadata": {},
   "outputs": [
    {
     "data": {
      "text/plain": [
       "SVC(C=10, break_ties=False, cache_size=200, class_weight=None, coef0=0.0,\n",
       "    decision_function_shape='ovr', degree=3, gamma='scale', kernel='rbf',\n",
       "    max_iter=-1, probability=False, random_state=None, shrinking=True,\n",
       "    tol=0.001, verbose=False)"
      ]
     },
     "execution_count": 58,
     "metadata": {},
     "output_type": "execute_result"
    }
   ],
   "source": [
    "model = SVC(kernel = 'rbf', C=10)#rbf kernel\n",
    "model.fit(X_train,y_train)"
   ]
  },
  {
   "cell_type": "code",
   "execution_count": 59,
   "id": "8ebfcb01",
   "metadata": {},
   "outputs": [
    {
     "name": "stdout",
     "output_type": "stream",
     "text": [
      "[[18  6 12]\n",
      " [ 5 32  0]\n",
      " [ 3  0 17]]\n",
      "0.7204301075268817\n"
     ]
    }
   ],
   "source": [
    "predictions = model.predict(X_test)\n",
    "print(confusion_matrix(y_test, predictions))\n",
    "print(accuracy_score(y_test, predictions))"
   ]
  },
  {
   "cell_type": "markdown",
   "id": "b79117f8",
   "metadata": {},
   "source": [
    "是否出现了过拟合现象"
   ]
  },
  {
   "cell_type": "code",
   "execution_count": 63,
   "id": "4b900e8c",
   "metadata": {},
   "outputs": [
    {
     "data": {
      "text/plain": [
       "SVC(C=100, break_ties=False, cache_size=200, class_weight=None, coef0=0.0,\n",
       "    decision_function_shape='ovr', degree=3, gamma='scale', kernel='rbf',\n",
       "    max_iter=-1, probability=False, random_state=None, shrinking=True,\n",
       "    tol=0.001, verbose=False)"
      ]
     },
     "execution_count": 63,
     "metadata": {},
     "output_type": "execute_result"
    }
   ],
   "source": [
    "model1 = SVC(kernel = 'rbf', C=100)#rbf kernel\n",
    "model1.fit(X_train,y_train)"
   ]
  },
  {
   "cell_type": "code",
   "execution_count": 64,
   "id": "af54957d",
   "metadata": {
    "scrolled": true
   },
   "outputs": [
    {
     "name": "stdout",
     "output_type": "stream",
     "text": [
      "[[27  5  4]\n",
      " [ 3 32  2]\n",
      " [ 3  0 17]]\n",
      "0.8172043010752689\n"
     ]
    }
   ],
   "source": [
    "predictions = model1.predict(X_test)\n",
    "print(confusion_matrix(y_test, predictions))\n",
    "print(accuracy_score(y_test, predictions))"
   ]
  },
  {
   "cell_type": "markdown",
   "id": "61885516",
   "metadata": {},
   "source": [
    "### 一个新的训练集和测试集"
   ]
  },
  {
   "cell_type": "code",
   "execution_count": 65,
   "id": "1e34a0df",
   "metadata": {},
   "outputs": [
    {
     "data": {
      "text/plain": [
       "SVC(C=1000, break_ties=False, cache_size=200, class_weight=None, coef0=0.0,\n",
       "    decision_function_shape='ovr', degree=3, gamma='scale', kernel='rbf',\n",
       "    max_iter=-1, probability=False, random_state=None, shrinking=True,\n",
       "    tol=0.001, verbose=False)"
      ]
     },
     "execution_count": 65,
     "metadata": {},
     "output_type": "execute_result"
    }
   ],
   "source": [
    "model2 = SVC(kernel = 'rbf', C=1000)#rbf kernel\n",
    "model2.fit(X_train,y_train)"
   ]
  },
  {
   "cell_type": "code",
   "execution_count": 66,
   "id": "563b0190",
   "metadata": {},
   "outputs": [
    {
     "name": "stdout",
     "output_type": "stream",
     "text": [
      "[[29  4  3]\n",
      " [ 4 31  2]\n",
      " [ 4  0 16]]\n",
      "0.8172043010752689\n"
     ]
    }
   ],
   "source": [
    "predictions = model2.predict(X_test)\n",
    "print(confusion_matrix(y_test, predictions))\n",
    "print(accuracy_score(y_test, predictions))"
   ]
  }
 ],
 "metadata": {
  "kernelspec": {
   "display_name": "Python 3 (ipykernel)",
   "language": "python",
   "name": "python3"
  },
  "language_info": {
   "codemirror_mode": {
    "name": "ipython",
    "version": 3
   },
   "file_extension": ".py",
   "mimetype": "text/x-python",
   "name": "python",
   "nbconvert_exporter": "python",
   "pygments_lexer": "ipython3",
   "version": "3.7.4"
  }
 },
 "nbformat": 4,
 "nbformat_minor": 5
}
