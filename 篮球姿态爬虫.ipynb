{
 "cells": [
  {
   "cell_type": "code",
   "execution_count": 1,
   "id": "39234c50",
   "metadata": {},
   "outputs": [],
   "source": [
    "import requests\n",
    "import os\n",
    "import re\n",
    "def get_images_from_baidu(keyword, page_num, save_dir):\n",
    "    header = {'User-Agent': 'Mozilla/5.0 (Windows NT 10.0; WOW64) AppleWebKit/537.36 (KHTML, like Gecko) Chrome/78.0.3904.108 Safari/537.36'}\n",
    "    # 请求的 url\n",
    "    url = 'https://image.baidu.com/search/acjson?'\n",
    "    n = 0\n",
    "    for pn in range(0, 30 * page_num, 30):\n",
    "        # 请求参数\n",
    "        param = {'tn': 'resultjson_com',\n",
    "                 # 'logid': '7603311155072595725',\n",
    "                 'ipn': 'rj',\n",
    "                 'ct': 201326592,\n",
    "                 'is': '',\n",
    "                 'fp': 'result',\n",
    "                 'queryWord': keyword,\n",
    "                 'cl': 2,\n",
    "                 'lm': -1,\n",
    "                 'ie': 'utf-8',\n",
    "                 'oe': 'utf-8',\n",
    "                 'adpicid': '',\n",
    "                 'st': -1,\n",
    "                 'z': '',\n",
    "                 'ic': '',\n",
    "                 'hd': '',\n",
    "                 'latest': '',\n",
    "                 'copyright': '',\n",
    "                 'word': keyword,\n",
    "                 's': '',\n",
    "                 'se': '',\n",
    "                 'tab': '',\n",
    "                 'width': '',\n",
    "                 'height': '',\n",
    "                 'face': 0,\n",
    "                 'istype': 2,\n",
    "                 'qc': '',\n",
    "                 'nc': '1',\n",
    "                 'fr': '',\n",
    "                 'expermode': '',\n",
    "                 'force': '',\n",
    "                 'cg': '',    # 这个参数没公开，但是不可少\n",
    "                 'pn': pn,    # 显示：30-60-90\n",
    "                 'rn': '30',  # 每页显示 30 条\n",
    "                 'gsm': '1e',\n",
    "                 '1618827096642': ''\n",
    "                 }\n",
    "        request = requests.get(url=url, headers=header, params=param)\n",
    "        if request.status_code == 200:\n",
    "            print('Request success.')\n",
    "        request.encoding = 'utf-8'\n",
    "        # 正则方式提取图片链接\n",
    "        html = request.text\n",
    "        image_url_list = re.findall('\"thumbURL\":\"(.*?)\",', html, re.S)\n",
    "        print(image_url_list)\n",
    "        # # 换一种方式\n",
    "        # request_dict = request.json()\n",
    "        # info_list = request_dict['data']\n",
    "        # # 看它的值最后多了一个，删除掉\n",
    "        # info_list.pop()\n",
    "        # image_url_list = []\n",
    "        # for info in info_list:\n",
    "        #     image_url_list.append(info['thumbURL'])\n",
    "\n",
    "        if not os.path.exists(save_dir):\n",
    "            os.makedirs(save_dir)\n",
    "\n",
    "        for image_url in image_url_list:\n",
    "            image_data = requests.get(url=image_url, headers=header).content\n",
    "            with open(os.path.join(save_dir, f'{n:06d}.jpg'), 'wb') as fp:\n",
    "                fp.write(image_data)\n",
    "            n = n + 1"
   ]
  },
  {
   "cell_type": "code",
   "execution_count": 5,
   "id": "10435e11",
   "metadata": {},
   "outputs": [
    {
     "name": "stdout",
     "output_type": "stream",
     "text": [
      "Request success.\n",
      "['https://img2.baidu.com/it/u=2633267343,728632468&fm=253&fmt=auto&app=138&f=JPEG?w=500&h=775', 'https://img2.baidu.com/it/u=1615645911,1726120134&fm=253&fmt=auto&app=138&f=JPEG?w=500&h=743', 'https://img1.baidu.com/it/u=2551860715,378648279&fm=253&fmt=auto&app=138&f=JPEG?w=500&h=750', 'https://img1.baidu.com/it/u=3876673359,2885473399&fm=253&fmt=auto&app=138&f=JPEG?w=500&h=548', 'https://img1.baidu.com/it/u=1428514258,2864002703&fm=253&fmt=auto&app=138&f=JPEG?w=500&h=674', 'https://img1.baidu.com/it/u=1229082064,2010019695&fm=253&fmt=auto&app=138&f=JPEG?w=400&h=600', 'https://img2.baidu.com/it/u=4148889291,3295354983&fm=253&fmt=auto&app=138&f=JPEG?w=500&h=750', 'https://img2.baidu.com/it/u=4091612052,2761403454&fm=253&fmt=auto&app=138&f=JPEG?w=500&h=751', 'https://img2.baidu.com/it/u=2046791511,2336025682&fm=253&fmt=auto&app=138&f=JPEG?w=500&h=750', 'https://img2.baidu.com/it/u=1686549936,3115533260&fm=253&fmt=auto&app=138&f=JPEG?w=500&h=751', 'https://img2.baidu.com/it/u=189190949,6443122&fm=253&fmt=auto&app=138&f=JPEG?w=500&h=750', 'https://img0.baidu.com/it/u=1304451160,100118971&fm=253&fmt=auto&app=138&f=JPEG?w=500&h=435', 'https://img2.baidu.com/it/u=1745922608,964401617&fm=253&fmt=auto&app=138&f=JPEG?w=500&h=615', 'https://img0.baidu.com/it/u=3438393587,368392162&fm=253&fmt=auto&app=138&f=JPEG?w=742&h=500', 'https://img2.baidu.com/it/u=3133086223,1192548913&fm=253&fmt=auto&app=138&f=JPEG?w=500&h=750', 'https://img2.baidu.com/it/u=2744052650,3488847125&fm=253&fmt=auto&app=138&f=JPEG?w=500&h=804', 'https://img1.baidu.com/it/u=2379492595,3472129931&fm=253&fmt=auto&app=138&f=JPEG?w=500&h=750', 'https://img0.baidu.com/it/u=2995203573,864661147&fm=253&fmt=auto&app=138&f=JPEG?w=500&h=737', 'https://img1.baidu.com/it/u=2004124053,1179735417&fm=253&fmt=auto&app=138&f=JPEG?w=500&h=723', 'https://img2.baidu.com/it/u=1978139099,2011479985&fm=253&fmt=auto&app=138&f=JPEG?w=700&h=394', 'https://img0.baidu.com/it/u=864342357,129056157&fm=253&fmt=auto&app=138&f=JPEG?w=500&h=750', 'https://img0.baidu.com/it/u=1357117706,4025430182&fm=253&fmt=auto&app=138&f=JPEG?w=334&h=500', 'https://img2.baidu.com/it/u=425114879,994654894&fm=253&fmt=auto&app=138&f=JPEG?w=500&h=656', 'https://img2.baidu.com/it/u=1608574265,776091066&fm=253&fmt=auto&app=138&f=JPEG?w=700&h=467', 'https://img2.baidu.com/it/u=3447581832,4258223307&fm=253&fmt=auto&app=138&f=JPEG?w=639&h=500', 'https://img1.baidu.com/it/u=1443226357,4074431447&fm=253&fmt=auto&app=138&f=JPEG?w=333&h=500', 'https://img1.baidu.com/it/u=4065842355,2679870562&fm=253&fmt=auto&app=138&f=JPEG?w=750&h=500', 'https://img2.baidu.com/it/u=3825313450,3365159879&fm=253&fmt=auto&app=138&f=JPEG?w=700&h=350', 'https://img0.baidu.com/it/u=2859004630,3746167407&fm=253&fmt=auto&app=138&f=JPEG?w=523&h=500', 'https://img1.baidu.com/it/u=4249561141,205693470&fm=253&fmt=auto&app=138&f=JPEG?w=500&h=750']\n",
      "Request success.\n",
      "['https://img0.baidu.com/it/u=1654266364,3710741379&fm=253&fmt=auto&app=138&f=JPEG?w=324&h=278', 'https://img0.baidu.com/it/u=3500727786,1221115961&fm=253&fmt=auto&app=138&f=JPEG?w=692&h=500', 'https://img1.baidu.com/it/u=2332124726,3780256556&fm=253&fmt=auto&app=138&f=JPEG?w=410&h=620', 'https://img0.baidu.com/it/u=3379961207,1410612787&fm=253&fmt=auto&app=138&f=JPEG?w=562&h=374', 'https://img2.baidu.com/it/u=3239484,1980175591&fm=253&fmt=auto&app=138&f=JPEG?w=500&h=644', 'https://img2.baidu.com/it/u=3011879587,1362440972&fm=253&fmt=auto&app=138&f=JPEG?w=500&h=747', 'https://img2.baidu.com/it/u=3832620688,1858364211&fm=253&fmt=auto&app=138&f=JPEG?w=625&h=500', 'https://img0.baidu.com/it/u=3855759350,2308127160&fm=253&fmt=auto&app=138&f=JPEG?w=500&h=750', 'https://img2.baidu.com/it/u=3612902051,1717465061&fm=253&fmt=auto&app=138&f=JPEG?w=500&h=500', 'https://img0.baidu.com/it/u=3819209666,4121513648&fm=253&fmt=auto&app=138&f=JPEG?w=350&h=500', 'https://img0.baidu.com/it/u=658147165,759223630&fm=253&fmt=auto&app=138&f=JPEG?w=500&h=400', 'https://img0.baidu.com/it/u=817261918,3165102301&fm=253&fmt=auto&app=138&f=JPEG?w=780&h=439', 'https://img0.baidu.com/it/u=2556011686,612539121&fm=253&fmt=auto&app=138&f=JPEG?w=619&h=500', 'https://img0.baidu.com/it/u=2006604246,1764066150&fm=253&fmt=auto&app=138&f=JPEG?w=333&h=500', 'https://img1.baidu.com/it/u=2541911661,3028319534&fm=253&fmt=auto&app=138&f=JPEG?w=333&h=500', 'https://img1.baidu.com/it/u=1495747878,3575153786&fm=253&fmt=auto&app=138&f=JPEG?w=364&h=500', 'https://img0.baidu.com/it/u=3335478882,1955896114&fm=253&fmt=auto&app=138&f=JPEG?w=500&h=796', 'https://img2.baidu.com/it/u=4228357859,3306221469&fm=253&fmt=auto&app=138&f=JPEG?w=500&h=750', 'https://img0.baidu.com/it/u=4200897224,1136750697&fm=253&fmt=auto&app=138&f=JPEG?w=500&h=738', 'https://img0.baidu.com/it/u=1399355415,1708663706&fm=253&fmt=auto&app=138&f=JPEG?w=500&h=750', 'https://img2.baidu.com/it/u=1671040835,2983060523&fm=253&fmt=auto&app=138&f=JPEG?w=500&h=750', 'https://img1.baidu.com/it/u=1759678831,2384715181&fm=253&fmt=auto&app=138&f=JPEG?w=500&h=750', 'https://img2.baidu.com/it/u=455448419,2983325294&fm=253&fmt=auto&app=138&f=JPEG?w=500&h=333', 'https://img0.baidu.com/it/u=1902384180,778326086&fm=253&fmt=auto&app=138&f=JPEG?w=500&h=766', 'https://img1.baidu.com/it/u=1455939490,404771565&fm=253&fmt=auto&app=138&f=JPEG?w=333&h=500', 'https://img0.baidu.com/it/u=2110238467,4255366384&fm=253&fmt=auto&app=138&f=JPEG?w=588&h=500', 'https://img2.baidu.com/it/u=541674619,3467435787&fm=253&fmt=auto&app=138&f=JPEG?w=500&h=750', 'https://img1.baidu.com/it/u=2986697992,247187303&fm=253&fmt=auto&app=138&f=JPEG?w=413&h=620', 'https://img2.baidu.com/it/u=3580749545,1538019035&fm=253&fmt=auto&app=138&f=JPEG?w=700&h=466', 'https://img0.baidu.com/it/u=2128279911,198876377&fm=253&fmt=auto&app=138&f=JPEG?w=694&h=500']\n",
      "Request success.\n",
      "['https://img0.baidu.com/it/u=2128279911,198876377&fm=253&fmt=auto&app=138&f=JPEG?w=694&h=500', 'https://img0.baidu.com/it/u=2039595823,3958034327&fm=253&fmt=auto&app=138&f=JPEG?w=500&h=500', 'https://img2.baidu.com/it/u=3661710423,2996502256&fm=253&fmt=auto&app=138&f=JPEG?w=500&h=666', 'https://img2.baidu.com/it/u=3825356032,2335619534&fm=253&fmt=auto&app=138&f=JPEG?w=750&h=500', 'https://img2.baidu.com/it/u=3351492650,4138451547&fm=253&fmt=auto&app=138&f=JPEG?w=500&h=750', 'https://img2.baidu.com/it/u=3193299328,1015360444&fm=253&fmt=auto&app=138&f=JPEG?w=500&h=333', 'https://img1.baidu.com/it/u=92365813,2553226855&fm=253&fmt=auto&app=138&f=JPEG?w=500&h=334', 'https://img0.baidu.com/it/u=2650329366,102291454&fm=253&fmt=auto&app=138&f=JPEG?w=700&h=467', 'https://img2.baidu.com/it/u=1728034321,2796766439&fm=253&fmt=auto&app=138&f=JPEG?w=700&h=467', 'https://img1.baidu.com/it/u=3332360252,3500484752&fm=253&fmt=auto&app=138&f=JPEG?w=621&h=500', 'https://img2.baidu.com/it/u=2924202687,3390411090&fm=253&fmt=auto&app=138&f=JPEG?w=500&h=832', 'https://img2.baidu.com/it/u=2354902973,1590804219&fm=253&fmt=auto&app=138&f=JPEG?w=500&h=1196', 'https://img2.baidu.com/it/u=2259443374,412537253&fm=253&fmt=auto&app=138&f=JPEG?w=500&h=623', 'https://img0.baidu.com/it/u=2559897278,4247603038&fm=253&fmt=auto&app=138&f=JPEG?w=700&h=474', 'https://img0.baidu.com/it/u=4166946629,712655771&fm=253&fmt=auto&app=138&f=JPEG?w=333&h=500', 'https://img2.baidu.com/it/u=959088279,605242948&fm=253&fmt=auto&app=138&f=JPEG?w=333&h=500', 'https://img1.baidu.com/it/u=2940016181,2190510722&fm=253&fmt=auto&app=138&f=JPEG?w=500&h=333', 'https://img1.baidu.com/it/u=605595661,1563062197&fm=253&fmt=auto&app=138&f=JPEG?w=500&h=333', 'https://img2.baidu.com/it/u=4075397408,111195625&fm=253&fmt=auto&app=138&f=JPEG?w=413&h=620', 'https://img1.baidu.com/it/u=4091417048,2965734573&fm=253&fmt=auto&app=138&f=JPEG?w=500&h=750', 'https://img2.baidu.com/it/u=690315515,2199869149&fm=253&fmt=auto&app=138&f=JPEG?w=500&h=749', 'https://img2.baidu.com/it/u=688413457,1846819167&fm=253&fmt=auto&app=138&f=JPEG?w=500&h=333', 'https://img2.baidu.com/it/u=2008455534,3187184382&fm=253&fmt=auto&app=138&f=JPEG?w=750&h=500', 'https://img1.baidu.com/it/u=276029734,2416287461&fm=253&fmt=auto&app=138&f=JPEG?w=413&h=620', 'https://img1.baidu.com/it/u=1150525150,3160588828&fm=253&fmt=auto&app=138&f=JPEG?w=500&h=750', 'https://img0.baidu.com/it/u=3013104375,1570398860&fm=253&fmt=auto&app=138&f=JPEG?w=403&h=620', 'https://img1.baidu.com/it/u=2156433619,4048207210&fm=253&fmt=auto&app=138&f=JPEG?w=700&h=467', 'https://img1.baidu.com/it/u=327488246,138182886&fm=253&fmt=auto&app=138&f=JPEG?w=487&h=850', 'https://img2.baidu.com/it/u=51188149,711611341&fm=253&fmt=auto&app=138&f=JPEG?w=700&h=467', 'https://img1.baidu.com/it/u=1073336174,1081175086&fm=253&fmt=auto&app=138&f=JPEG?w=693&h=500']\n"
     ]
    },
    {
     "name": "stdout",
     "output_type": "stream",
     "text": [
      "Request success.\n",
      "['https://img1.baidu.com/it/u=1073336174,1081175086&fm=253&fmt=auto&app=138&f=JPEG?w=693&h=500', 'https://img2.baidu.com/it/u=544821495,1828952971&fm=253&fmt=auto&app=138&f=JPEG?w=750&h=500', 'https://img2.baidu.com/it/u=3432534641,1621769612&fm=253&fmt=auto&app=138&f=JPEG?w=500&h=765', 'https://img1.baidu.com/it/u=3523996890,153640799&fm=253&fmt=auto&app=138&f=JPEG?w=500&h=500', 'https://img2.baidu.com/it/u=3666807830,1771320298&fm=253&fmt=auto&app=138&f=PNG?w=500&h=500', 'https://img2.baidu.com/it/u=3372639019,1889784363&fm=253&fmt=auto&app=138&f=JPEG?w=698&h=500', 'https://img1.baidu.com/it/u=2917389910,2813553991&fm=253&fmt=auto&app=138&f=JPEG?w=449&h=620', 'https://img0.baidu.com/it/u=4173875368,3609402532&fm=253&fmt=auto&app=138&f=JPEG?w=414&h=620', 'https://img2.baidu.com/it/u=1965730077,1644058526&fm=253&fmt=auto&app=138&f=JPEG?w=700&h=474', 'https://img2.baidu.com/it/u=3489192437,4069453544&fm=253&fmt=auto&app=138&f=JPEG?w=368&h=499', 'https://img2.baidu.com/it/u=179262688,1415582656&fm=253&fmt=auto&app=138&f=JPEG?w=500&h=750', 'https://img0.baidu.com/it/u=183141148,2270614451&fm=253&fmt=auto&app=138&f=JPEG?w=386&h=620', 'https://img2.baidu.com/it/u=618418809,2835523997&fm=253&fmt=auto&app=138&f=JPEG?w=500&h=749', 'https://img0.baidu.com/it/u=2140752314,3255157539&fm=253&fmt=auto&app=138&f=JPEG?w=700&h=440', 'https://img2.baidu.com/it/u=3413965810,1934089232&fm=253&fmt=auto&app=138&f=JPEG?w=500&h=500', 'https://img2.baidu.com/it/u=1368073210,849377904&fm=253&fmt=auto&app=138&f=JPEG?w=414&h=620', 'https://img0.baidu.com/it/u=622481938,750381979&fm=253&fmt=auto&app=138&f=JPEG?w=498&h=820', 'https://img0.baidu.com/it/u=354735558,3261373345&fm=253&fmt=auto&app=138&f=JPEG?w=500&h=750', 'https://img2.baidu.com/it/u=1972807761,1037287475&fm=253&fmt=auto&app=138&f=JPEG?w=398&h=620', 'https://img1.baidu.com/it/u=2435752071,2158239108&fm=253&fmt=auto&app=138&f=JPEG?w=768&h=500', 'https://img0.baidu.com/it/u=2051610021,2201724230&fm=253&fmt=auto&app=138&f=JPEG?w=333&h=500', 'https://img2.baidu.com/it/u=3213207437,2679307938&fm=253&fmt=auto&app=138&f=JPEG?w=750&h=500', 'https://img0.baidu.com/it/u=2510042874,632665992&fm=253&fmt=auto&app=138&f=JPEG?w=500&h=750', 'https://img2.baidu.com/it/u=4124223133,925701127&fm=253&fmt=auto&app=138&f=JPEG?w=449&h=620', 'https://img2.baidu.com/it/u=3761004542,755347619&fm=253&fmt=auto&app=120&f=JPEG?w=733&h=1100', 'https://img1.baidu.com/it/u=2380024553,1200263645&fm=253&fmt=auto&app=138&f=JPEG?w=413&h=620', 'https://img0.baidu.com/it/u=3511252975,3869759305&fm=253&fmt=auto&app=138&f=JPEG?w=413&h=620', 'https://img2.baidu.com/it/u=1463652707,367250366&fm=253&fmt=auto&app=138&f=JPEG?w=500&h=376', 'https://img0.baidu.com/it/u=811293917,2234393128&fm=253&fmt=auto&app=138&f=JPEG?w=500&h=751', 'https://img2.baidu.com/it/u=2851276127,2984853136&fm=253&fmt=auto&app=138&f=JPEG?w=641&h=433']\n",
      "Request success.\n",
      "['https://img1.baidu.com/it/u=409245284,3756236015&fm=253&fmt=auto&app=138&f=JPEG?w=750&h=500', 'https://img1.baidu.com/it/u=2857586435,2538067744&fm=253&fmt=auto&app=138&f=JPEG?w=408&h=620', 'https://img2.baidu.com/it/u=3669504836,86083524&fm=253&fmt=auto&app=138&f=JPEG?w=500&h=351', 'https://img1.baidu.com/it/u=3197288522,3529192924&fm=253&fmt=auto&app=138&f=JPEG?w=373&h=500', 'https://img1.baidu.com/it/u=1541892144,4063755993&fm=253&fmt=auto&app=138&f=JPEG?w=500&h=333', 'https://img2.baidu.com/it/u=246351139,2105361642&fm=253&fmt=auto&app=138&f=JPEG?w=500&h=775', 'https://img2.baidu.com/it/u=4004299862,3362326919&fm=253&fmt=auto&app=138&f=JPG?w=500&h=500', 'https://img1.baidu.com/it/u=355114455,3353742299&fm=253&fmt=auto&app=138&f=JPEG?w=650&h=426', 'https://img0.baidu.com/it/u=2486672614,2135886695&fm=253&fmt=auto&app=138&f=JPEG?w=500&h=750', 'https://img2.baidu.com/it/u=390426337,1824367637&fm=253&fmt=auto&app=138&f=JPEG?w=361&h=620', 'https://img0.baidu.com/it/u=979182884,1908025809&fm=253&fmt=auto&app=138&f=JPEG?w=500&h=749', 'https://img1.baidu.com/it/u=3002474086,3757088524&fm=253&fmt=auto&app=138&f=JPEG?w=1078&h=500', 'https://img2.baidu.com/it/u=1078338247,3766179035&fm=253&fmt=auto&app=138&f=JPEG?w=500&h=897', 'https://img0.baidu.com/it/u=3167776624,1174788179&fm=253&fmt=auto&app=138&f=JPEG?w=889&h=500', 'https://img1.baidu.com/it/u=874209742,794725776&fm=253&fmt=auto&app=138&f=JPEG?w=750&h=500', 'https://img2.baidu.com/it/u=1810787690,1521830035&fm=253&fmt=auto&app=138&f=JPEG?w=755&h=500', 'https://img2.baidu.com/it/u=1112910569,1944793565&fm=253&fmt=auto&app=120&f=JPEG?w=640&h=446', 'https://img2.baidu.com/it/u=802913123,634140541&fm=253&fmt=auto&app=138&f=JPEG?w=750&h=500', 'https://img2.baidu.com/it/u=3286364655,2895594649&fm=253&fmt=auto&app=138&f=JPEG?w=750&h=500', 'https://img2.baidu.com/it/u=3090393171,4203680705&fm=253&fmt=auto&app=138&f=JPEG?w=311&h=500', 'https://img0.baidu.com/it/u=4060228484,3834177063&fm=253&fmt=auto&app=138&f=JPEG?w=750&h=500', 'https://img0.baidu.com/it/u=450376671,438971102&fm=253&fmt=auto&app=120&f=JPEG?w=484&h=538', 'https://img0.baidu.com/it/u=3328082178,4244678535&fm=253&fmt=auto&app=138&f=JPEG?w=889&h=500', 'https://img0.baidu.com/it/u=3675426736,388177428&fm=253&fmt=auto&app=138&f=JPEG?w=413&h=620', 'https://img1.baidu.com/it/u=1456500729,3361558105&fm=253&fmt=auto&app=138&f=JPEG?w=640&h=490', 'https://img0.baidu.com/it/u=2144299295,2788816762&fm=253&fmt=auto&app=138&f=JPEG?w=519&h=500', 'https://img2.baidu.com/it/u=2170653753,1732516131&fm=253&fmt=auto&app=138&f=JPEG?w=666&h=500', 'https://img1.baidu.com/it/u=3218216717,3629051894&fm=253&fmt=auto&app=138&f=JPEG?w=1078&h=500', 'https://img1.baidu.com/it/u=3611713372,2898131152&fm=253&fmt=auto&app=138&f=JPEG?w=500&h=753', 'https://img2.baidu.com/it/u=2782505113,1778004099&fm=253&fmt=auto&app=138&f=JPEG?w=749&h=500']\n",
      "Get images finished.\n"
     ]
    }
   ],
   "source": [
    "if __name__ == '__main__':\n",
    "    keyword = '篮球运动员姿态图片'\n",
    "    save_dir = 'H:\\\\basketball_data\\\\train\\\\not_shooting'\n",
    "    page_num = 5\n",
    "    get_images_from_baidu(keyword, page_num, save_dir)\n",
    "    print('Get images finished.')"
   ]
  },
  {
   "cell_type": "code",
   "execution_count": 7,
   "id": "2b060fd8",
   "metadata": {
    "scrolled": true
   },
   "outputs": [
    {
     "name": "stdout",
     "output_type": "stream",
     "text": [
      "Request success.\n",
      "['https://img0.baidu.com/it/u=4050614609,556473081&fm=253&fmt=auto&app=138&f=JPEG?w=750&h=500', 'https://img0.baidu.com/it/u=2703328290,1194971451&fm=253&fmt=auto&app=138&f=JPEG?w=500&h=500', 'https://img2.baidu.com/it/u=4006974499,1499446987&fm=253&fmt=auto&app=138&f=JPEG?w=500&h=763', 'https://img0.baidu.com/it/u=1444250356,3418833202&fm=253&fmt=auto&app=120&f=JPEG?w=838&h=500', 'https://img1.baidu.com/it/u=1469128797,939660934&fm=253&fmt=auto&app=138&f=JPEG?w=450&h=300', 'https://img1.baidu.com/it/u=151171968,346751521&fm=253&fmt=auto&app=138&f=JPEG?w=500&h=500', 'https://img0.baidu.com/it/u=2955161970,2694309452&fm=253&fmt=auto?w=750&h=500', 'https://img0.baidu.com/it/u=1743032260,1859547133&fm=253&fmt=auto&app=138&f=JPEG?w=500&h=666', 'https://img0.baidu.com/it/u=2511141273,3175817219&fm=253&fmt=auto&app=138&f=JPEG?w=539&h=494', 'https://img2.baidu.com/it/u=3438161560,483536512&fm=253&fmt=auto&app=138&f=JPEG?w=500&h=500', 'https://img2.baidu.com/it/u=3698918342,3045235131&fm=253&fmt=auto&app=138&f=JPEG?w=415&h=500', 'https://img2.baidu.com/it/u=3165108475,2720960188&fm=253&fmt=auto&app=138&f=JPEG?w=399&h=600', 'https://img2.baidu.com/it/u=3422924113,2115334646&fm=253&fmt=auto&app=138&f=JPEG?w=414&h=520', 'https://img0.baidu.com/it/u=4013106333,3218739467&fm=253&fmt=auto&app=138&f=JPEG?w=578&h=459', 'https://img1.baidu.com/it/u=2946427183,2841742375&fm=253&fmt=auto&app=138&f=JPEG?w=667&h=500', 'https://img1.baidu.com/it/u=371788220,1251364881&fm=253&fmt=auto&app=120&f=JPEG?w=500&h=500', 'https://img0.baidu.com/it/u=3198496126,3523026435&fm=253&fmt=auto&app=138&f=JPEG?w=500&h=414', 'https://img1.baidu.com/it/u=2332124726,3780256556&fm=253&fmt=auto&app=138&f=JPEG?w=410&h=620', 'https://img0.baidu.com/it/u=3457377237,2587128856&fm=253&fmt=auto&app=138&f=JPEG?w=500&h=375', 'https://img2.baidu.com/it/u=2499868636,1109737765&fm=253&fmt=auto&app=120&f=GIF?w=640&h=360', 'https://img2.baidu.com/it/u=2271609271,3539975206&fm=253&fmt=auto&app=138&f=JPEG?w=334&h=440', 'https://img2.baidu.com/it/u=3549470540,1522159196&fm=253&fmt=auto&app=138&f=JPEG?w=440&h=486', 'https://img1.baidu.com/it/u=739733967,3098039881&fm=253&fmt=auto&app=138&f=JPEG?w=430&h=646', 'https://img2.baidu.com/it/u=2974559188,3171898910&fm=253&fmt=auto&app=138&f=JPEG?w=500&h=500', 'https://img2.baidu.com/it/u=2580515146,445219631&fm=253&fmt=auto&app=138&f=JPEG?w=751&h=500', 'https://img1.baidu.com/it/u=1229082064,2010019695&fm=253&fmt=auto&app=138&f=JPEG?w=400&h=600', 'https://img0.baidu.com/it/u=3176423669,1970671737&fm=253&fmt=auto&app=138&f=JPEG?w=400&h=300', 'https://img1.baidu.com/it/u=839683561,1247382594&fm=253&fmt=auto&app=138&f=JPEG?w=667&h=500', 'https://img0.baidu.com/it/u=3101980345,2723126293&fm=253&fmt=auto&app=138&f=JPEG?w=450&h=560', 'https://img2.baidu.com/it/u=1602267602,2995293795&fm=253&fmt=auto&app=138&f=JPEG?w=500&h=767']\n",
      "Request success.\n",
      "['https://img1.baidu.com/it/u=839683561,1247382594&fm=253&fmt=auto&app=138&f=JPEG?w=667&h=500', 'https://img2.baidu.com/it/u=3825818980,676892008&fm=253&fmt=auto&app=138&f=JPEG?w=500&h=629', 'https://img0.baidu.com/it/u=621588781,2223111166&fm=253&fmt=auto&app=120&f=JPEG?w=899&h=500', 'https://img2.baidu.com/it/u=240966282,3264158765&fm=253&fmt=auto&app=138&f=JPEG?w=667&h=500', 'https://img0.baidu.com/it/u=3069695776,405553087&fm=253&fmt=auto&app=120&f=JPEG?w=649&h=500', 'https://img0.baidu.com/it/u=3087601999,2452768434&fm=253&fmt=auto&app=138&f=JPEG?w=667&h=500', 'https://img1.baidu.com/it/u=3973520396,2166962585&fm=253&fmt=auto&app=138&f=JPEG?w=578&h=440', 'https://img0.baidu.com/it/u=3633748358,474972833&fm=253&fmt=auto&app=138&f=JPEG?w=735&h=500', 'https://img1.baidu.com/it/u=132569369,3564163890&fm=253&fmt=auto&app=138&f=JPEG?w=728&h=485', 'https://img0.baidu.com/it/u=2781279031,578919579&fm=253&fmt=auto&app=120&f=JPEG?w=1080&h=720', 'https://img0.baidu.com/it/u=3838155234,3937718325&fm=253&fmt=auto&app=138&f=JPEG?w=500&h=750', 'https://img0.baidu.com/it/u=2344862406,3186505436&fm=253&fmt=auto&app=138&f=JPEG?w=333&h=500', 'https://img1.baidu.com/it/u=2418395592,2405605630&fm=253&fmt=auto&app=138&f=JPEG?w=550&h=451', 'https://img0.baidu.com/it/u=1776072639,2748362523&fm=253&fmt=auto&app=138&f=JPEG?w=500&h=657', 'https://img0.baidu.com/it/u=4247335728,792464110&fm=253&fmt=auto&app=120&f=JPEG?w=500&h=600', 'https://img2.baidu.com/it/u=319501715,1642294736&fm=253&fmt=auto&app=138&f=JPEG?w=667&h=500', 'https://img1.baidu.com/it/u=345971098,486482484&fm=253&fmt=auto&app=138&f=JPEG?w=426&h=640', 'https://img0.baidu.com/it/u=3313593794,861272935&fm=253&fmt=auto&app=138&f=GIF?w=640&h=360', 'https://img2.baidu.com/it/u=1714882036,1748900896&fm=253&fmt=auto&app=138&f=JPEG?w=500&h=750', 'https://img1.baidu.com/it/u=466680338,522695676&fm=253&fmt=auto&app=138&f=JPEG?w=480&h=480', 'https://img1.baidu.com/it/u=707956693,3561507308&fm=253&fmt=auto&app=138&f=GIF?w=358&h=207', 'https://img1.baidu.com/it/u=197475369,1044931497&fm=253&fmt=auto&app=138&f=JPEG?w=667&h=500', 'https://img2.baidu.com/it/u=1471913326,1317761806&fm=253&fmt=auto&app=138&f=JPEG?w=393&h=550', 'https://img0.baidu.com/it/u=3714027052,119416793&fm=253&fmt=auto&app=138&f=JPEG?w=500&h=768', 'https://img1.baidu.com/it/u=1004143940,3708431342&fm=253&fmt=auto&app=138&f=JPEG?w=450&h=300', 'https://img1.baidu.com/it/u=1704872748,4139867875&fm=253&fmt=auto&app=138&f=JPG?w=667&h=500', 'https://img2.baidu.com/it/u=3587241507,538046511&fm=253&fmt=auto&app=138&f=JPEG?w=667&h=500', 'https://img1.baidu.com/it/u=1542072201,1477173224&fm=253&fmt=auto&app=138&f=JPEG?w=667&h=500', 'https://img1.baidu.com/it/u=2494380939,1492010743&fm=253&fmt=auto&app=138&f=JPEG?w=510&h=500', 'https://img1.baidu.com/it/u=3952708536,2695385665&fm=253&fmt=auto&app=138&f=JPEG?w=500&h=375']\n",
      "Request success.\n",
      "['https://img0.baidu.com/it/u=2408891827,3346695768&fm=253&fmt=auto&app=138&f=JPEG?w=550&h=366', 'https://img1.baidu.com/it/u=4096496499,2629508150&fm=253&fmt=auto&app=120&f=JPEG?w=1422&h=800', 'https://img0.baidu.com/it/u=1881299153,836094099&fm=253&fmt=auto&app=138&f=JPEG?w=375&h=500', 'https://img0.baidu.com/it/u=2440331256,1958384924&fm=253&fmt=auto&app=138&f=JPEG?w=750&h=500', 'https://img1.baidu.com/it/u=2161218491,65591786&fm=253&fmt=auto&app=138&f=JPEG?w=500&h=500', 'https://img0.baidu.com/it/u=1948762884,1256970923&fm=253&fmt=auto&app=138&f=JPEG?w=378&h=500', 'https://img2.baidu.com/it/u=2128677265,168019285&fm=253&fmt=auto&app=138&f=JPEG?w=500&h=889', 'https://img1.baidu.com/it/u=1130879293,2690916605&fm=253&fmt=auto&app=138&f=JPEG?w=667&h=500', 'https://img2.baidu.com/it/u=645065152,3365333567&fm=253&fmt=auto&app=138&f=JPEG?w=750&h=500', 'https://img0.baidu.com/it/u=1242824086,1671388111&fm=253&fmt=auto&app=138&f=JPEG?w=667&h=500', 'https://img2.baidu.com/it/u=644632925,3549197598&fm=253&fmt=auto&app=138&f=JPEG?w=667&h=500', 'https://img1.baidu.com/it/u=3746236984,2229927590&fm=253&fmt=auto&app=120&f=JPEG?w=629&h=257', 'https://img0.baidu.com/it/u=3374105390,1737974106&fm=253&fmt=auto&app=120&f=GIF?w=477&h=263', 'https://img1.baidu.com/it/u=2085360008,4046732098&fm=253&fmt=auto&app=138&f=JPEG?w=750&h=500', 'https://img0.baidu.com/it/u=3720184873,1949211274&fm=253&fmt=auto&app=138&f=JPEG?w=500&h=284', 'https://img0.baidu.com/it/u=369149577,2048255887&fm=253&fmt=auto&app=138&f=JPEG?w=750&h=500', 'https://img0.baidu.com/it/u=3826462759,649314917&fm=253&fmt=auto&app=138&f=JPEG?w=666&h=500', 'https://img0.baidu.com/it/u=2055037756,3724314892&fm=253&fmt=auto&app=120&f=JPEG?w=640&h=400', 'https://img0.baidu.com/it/u=3539859924,247653423&fm=253&fmt=auto&app=138&f=JPEG?w=667&h=500', 'https://img1.baidu.com/it/u=1589411291,3094897064&fm=253&fmt=auto&app=138&f=GIF?w=639&h=416', 'https://img0.baidu.com/it/u=3863852752,2171233438&fm=253&fmt=auto&app=138&f=JPEG?w=695&h=500', 'https://img1.baidu.com/it/u=2081813650,4278856850&fm=253&fmt=auto&app=138&f=JPEG?w=400&h=600', 'https://img2.baidu.com/it/u=1317847316,1847546916&fm=253&fmt=auto&app=138&f=JPEG?w=700&h=500', 'https://img1.baidu.com/it/u=3258290667,3919165168&fm=253&fmt=auto&app=138&f=JPEG?w=500&h=722', 'https://img0.baidu.com/it/u=2510042874,632665992&fm=253&fmt=auto&app=138&f=JPEG?w=500&h=750', 'https://img0.baidu.com/it/u=2720601012,2254046995&fm=253&fmt=auto&app=138&f=JPEG?w=525&h=350', 'https://img1.baidu.com/it/u=4003975342,2669837776&fm=253&fmt=auto&app=138&f=JPEG?w=500&h=375', 'https://img1.baidu.com/it/u=3942160430,3732200472&fm=253&fmt=auto&app=138&f=JPEG?w=500&h=375', 'https://img0.baidu.com/it/u=1346532811,250833636&fm=253&fmt=auto&app=138&f=JPEG?w=500&h=561', 'https://img0.baidu.com/it/u=1441806620,796988559&fm=253&fmt=auto&app=138&f=JPEG?w=500&h=667']\n"
     ]
    },
    {
     "name": "stdout",
     "output_type": "stream",
     "text": [
      "Request success.\n",
      "['https://img2.baidu.com/it/u=2927500028,2415302027&fm=253&fmt=auto&app=138&f=JPG?w=500&h=708', 'https://img2.baidu.com/it/u=1317847316,1847546916&fm=253&fmt=auto&app=138&f=JPEG?w=700&h=500', 'https://img2.baidu.com/it/u=3710132630,142793311&fm=253&fmt=auto&app=138&f=JPEG?w=667&h=500', 'https://img2.baidu.com/it/u=794846857,2710880676&fm=253&fmt=auto&app=138&f=JPEG?w=667&h=500', 'https://img2.baidu.com/it/u=1622508048,3623339793&fm=253&fmt=auto&app=138&f=JPEG?w=667&h=500', 'https://img2.baidu.com/it/u=2861557903,2490475868&fm=253&fmt=auto&app=138&f=JPEG?w=500&h=596', 'https://img0.baidu.com/it/u=3384981553,3398185901&fm=253&fmt=auto&app=138&f=JPEG?w=667&h=500', 'https://img2.baidu.com/it/u=3372639019,1889784363&fm=253&fmt=auto&app=138&f=JPEG?w=698&h=500', 'https://img1.baidu.com/it/u=1826753343,3562896546&fm=253&fmt=auto&app=138&f=JPEG?w=500&h=375', 'https://img0.baidu.com/it/u=1391052271,2461844396&fm=253&fmt=auto&app=138&f=JPEG?w=750&h=500', 'https://img1.baidu.com/it/u=1405677455,3024840728&fm=253&fmt=auto&app=138&f=JPEG?w=750&h=500', 'https://img1.baidu.com/it/u=1678857428,2813102455&fm=253&fmt=auto&app=138&f=JPEG?w=750&h=500', 'https://img1.baidu.com/it/u=1675534587,1845011000&fm=253&fmt=auto&app=138&f=JPEG?w=500&h=638', 'https://img1.baidu.com/it/u=819760008,1144790573&fm=253&fmt=auto&app=138&f=JPEG?w=749&h=500', 'https://img2.baidu.com/it/u=3795181141,3532214738&fm=253&fmt=auto&app=138&f=JPEG?w=500&h=750', 'https://img1.baidu.com/it/u=1560213358,2864231382&fm=253&fmt=auto&app=138&f=JPEG?w=838&h=500', 'https://img0.baidu.com/it/u=3880906256,3107988982&fm=253&fmt=auto&app=138&f=JPEG?w=333&h=500', 'https://img0.baidu.com/it/u=2808822131,1658056610&fm=253&fmt=auto&app=138&f=JPEG?w=500&h=375', 'https://img2.baidu.com/it/u=2366503938,4068277003&fm=253&fmt=auto&app=138&f=JPEG?w=418&h=500', 'https://img0.baidu.com/it/u=732176157,2981413065&fm=253&fmt=auto&app=138&f=JPEG?w=420&h=420', 'https://img2.baidu.com/it/u=4080785881,1663416270&fm=253&fmt=auto&app=138&f=JPEG?w=333&h=500', 'https://img0.baidu.com/it/u=4187916797,1775498142&fm=253&fmt=auto&app=138&f=JPEG?w=667&h=500', 'https://img2.baidu.com/it/u=3800849383,1343762707&fm=253&fmt=auto&app=138&f=JPEG?w=500&h=333', 'https://img0.baidu.com/it/u=1761356960,967030499&fm=253&fmt=auto&app=138&f=JPEG?w=500&h=1010', 'https://img0.baidu.com/it/u=2926006436,1106791761&fm=253&fmt=auto&app=138&f=JPEG?w=688&h=500', 'https://img2.baidu.com/it/u=662158716,3240047994&fm=253&fmt=auto&app=138&f=JPEG?w=667&h=500', 'https://img0.baidu.com/it/u=3925020806,2289012862&fm=253&fmt=auto&app=138&f=JPEG?w=281&h=500', 'https://img0.baidu.com/it/u=2486914839,595602163&fm=253&fmt=auto&app=138&f=JPEG?w=860&h=420', 'https://img0.baidu.com/it/u=873980962,3735390098&fm=253&fmt=auto&app=138&f=JPEG?w=500&h=375', 'https://img2.baidu.com/it/u=362053989,2855952314&fm=253&fmt=auto&app=138&f=JPEG?w=500&h=667']\n",
      "Request success.\n",
      "['https://img2.baidu.com/it/u=3073104519,2836311727&fm=253&fmt=auto&app=138&f=JPEG?w=500&h=667', 'https://img0.baidu.com/it/u=2984546956,2529339843&fm=253&fmt=auto&app=138&f=JPEG?w=700&h=467', 'https://img1.baidu.com/it/u=1459678527,4278092899&fm=253&fmt=auto&app=138&f=JPEG?w=667&h=500', 'https://img0.baidu.com/it/u=1373768266,549822758&fm=253&fmt=auto&app=138&f=JPEG?w=614&h=500', 'https://img0.baidu.com/it/u=2456148246,1625976962&fm=253&fmt=auto&app=138&f=JPEG?w=800&h=500', 'https://img0.baidu.com/it/u=745364195,1710008222&fm=253&fmt=auto&app=138&f=JPEG?w=500&h=375', 'https://img0.baidu.com/it/u=1272417903,894276237&fm=253&fmt=auto&app=138&f=JPEG?w=500&h=500', 'https://img2.baidu.com/it/u=1483062505,3144455017&fm=253&fmt=auto&app=138&f=GIF?w=346&h=194', 'https://img1.baidu.com/it/u=920684875,3752197374&fm=253&fmt=auto&app=138&f=JPEG?w=750&h=500', 'https://img0.baidu.com/it/u=480517111,2421549822&fm=253&fmt=auto&app=138&f=JPEG?w=500&h=375', 'https://img1.baidu.com/it/u=1647754196,778920880&fm=253&fmt=auto&app=138&f=JPEG?w=524&h=350', 'https://img1.baidu.com/it/u=3998726312,1108386514&fm=253&fmt=auto&app=138&f=JPEG?w=594&h=397', 'https://img2.baidu.com/it/u=4268903187,1655818909&fm=253&fmt=auto&app=138&f=JPEG?w=500&h=375', 'https://img0.baidu.com/it/u=1887000562,1490820886&fm=253&fmt=auto&app=138&f=JPEG?w=524&h=350', 'https://img2.baidu.com/it/u=1976463625,2511694583&fm=253&fmt=auto&app=138&f=JPEG?w=667&h=500', 'https://img1.baidu.com/it/u=3797927756,1410072748&fm=253&fmt=auto&app=138&f=JPEG?w=524&h=350', 'https://img2.baidu.com/it/u=2109403143,3435811028&fm=253&fmt=auto&app=138&f=JPEG?w=499&h=353', 'https://img0.baidu.com/it/u=2455756229,2670865652&fm=253&fmt=auto&app=138&f=JPEG?w=667&h=500', 'https://img1.baidu.com/it/u=2944831718,1373223261&fm=253&fmt=auto&app=138&f=JPEG?w=332&h=499', 'https://img1.baidu.com/it/u=1761939626,3176556106&fm=253&fmt=auto&app=138&f=JPEG?w=579&h=500', 'https://img2.baidu.com/it/u=1094298058,2571756458&fm=253&fmt=auto&app=138&f=JPEG?w=700&h=467', 'https://img2.baidu.com/it/u=1713070041,4000723018&fm=253&fmt=auto&app=138&f=JPEG?w=667&h=500', 'https://img1.baidu.com/it/u=489468589,273751578&fm=253&fmt=auto&app=138&f=JPEG?w=889&h=500', 'https://img1.baidu.com/it/u=774080983,884658714&fm=253&fmt=auto&app=138&f=JPEG?w=500&h=375', 'https://img2.baidu.com/it/u=1663130278,1636927370&fm=253&fmt=auto&app=138&f=JPEG?w=500&h=375', 'https://img1.baidu.com/it/u=356620098,2866297195&fm=253&fmt=auto&app=138&f=JPEG?w=667&h=500', 'https://img2.baidu.com/it/u=3566480350,3220451618&fm=253&fmt=auto&app=138&f=JPEG?w=1000&h=500', 'https://img0.baidu.com/it/u=281692981,3665317503&fm=253&fmt=auto&app=138&f=JPEG?w=500&h=750', 'https://img2.baidu.com/it/u=1718264973,2774855131&fm=253&fmt=auto&app=138&f=JPEG?w=700&h=467', 'https://img0.baidu.com/it/u=1656933801,3829985734&fm=253&fmt=auto&app=138&f=JPG?w=500&h=500']\n",
      "Get images finished.\n"
     ]
    }
   ],
   "source": [
    "if __name__ == '__main__':\n",
    "    keyword = '运球图片'\n",
    "    save_dir = 'H:\\\\basketball_data\\\\train\\\\dribbling'\n",
    "    page_num = 5\n",
    "    get_images_from_baidu(keyword, page_num, save_dir)\n",
    "    print('Get images finished.')"
   ]
  }
 ],
 "metadata": {
  "kernelspec": {
   "display_name": "Python 3 (ipykernel)",
   "language": "python",
   "name": "python3"
  },
  "language_info": {
   "codemirror_mode": {
    "name": "ipython",
    "version": 3
   },
   "file_extension": ".py",
   "mimetype": "text/x-python",
   "name": "python",
   "nbconvert_exporter": "python",
   "pygments_lexer": "ipython3",
   "version": "3.7.4"
  }
 },
 "nbformat": 4,
 "nbformat_minor": 5
}
